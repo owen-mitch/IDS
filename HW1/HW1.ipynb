{
 "cells": [
  {
   "cell_type": "markdown",
   "metadata": {},
   "source": [
    "## Problem 1"
   ]
  },
  {
   "cell_type": "markdown",
   "metadata": {},
   "source": [
    "Analysis provided in the file chickwts_modified.xlsx."
   ]
  },
  {
   "cell_type": "markdown",
   "metadata": {},
   "source": [
    "*Based on the chicken feed data, which type of chicken food appears the most beneﬁcial for a thriving poultry business? Explain your answer.*\n",
    "\n",
    "According to the data, sunflower is the best chicken food because it has the highest minimum, mean, and maximum weights."
   ]
  },
  {
   "cell_type": "markdown",
   "metadata": {},
   "source": [
    "## Problem 2"
   ]
  },
  {
   "cell_type": "markdown",
   "metadata": {},
   "source": [
    "Analysis provided in the file ratings.xlsx."
   ]
  },
  {
   "cell_type": "markdown",
   "metadata": {},
   "source": [
    "*Perform similar analyses as you did in Problem 1 and determine if you had to choose an auto insurance provider based on these ratings, which one you would opt for. Explain your answer.*\n",
    "\n",
    "If I were to pick one of these three insurance providers, I would pick Progressive because it has the highest minimum and average rating. The high minimum implies a decent quality of service even in the worst-case scenario and the high average being the most impactful metric of service quality of the three. These two factors outweigh Geico's highest maximum score as the maximum doesn't really provide much useful information to someone looking for insurance."
   ]
  }
 ],
 "metadata": {
  "language_info": {
   "name": "python"
  },
  "orig_nbformat": 4
 },
 "nbformat": 4,
 "nbformat_minor": 2
}
